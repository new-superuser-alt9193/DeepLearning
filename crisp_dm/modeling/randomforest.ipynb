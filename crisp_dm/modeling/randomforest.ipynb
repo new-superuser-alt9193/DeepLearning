{
 "cells": [
  {
   "cell_type": "code",
   "execution_count": 1,
   "metadata": {},
   "outputs": [],
   "source": [
    "import pandas as pd\n",
    "import numpy as np\n",
    "from sklearn.ensemble import RandomForestClassifier\n",
    "from sklearn.model_selection import train_test_split\n",
    "from sklearn.metrics import confusion_matrix, ConfusionMatrixDisplay"
   ]
  },
  {
   "cell_type": "code",
   "execution_count": 2,
   "metadata": {},
   "outputs": [],
   "source": [
    "#df = pd.read_csv('../../data/telcom_numeric.csv')\n",
    "df = pd.read_csv('../../data/telecom_pca.csv')\n",
    "x = df.drop(columns=['TARGET'])\n",
    "y = df['TARGET']"
   ]
  },
  {
   "cell_type": "code",
   "execution_count": 3,
   "metadata": {},
   "outputs": [],
   "source": [
    "x_train, x_test, y_train, y_test = train_test_split(x,y, test_size= 0.25, random_state= 1)"
   ]
  },
  {
   "cell_type": "code",
   "execution_count": 4,
   "metadata": {},
   "outputs": [],
   "source": [
    "random_forest = RandomForestClassifier(max_depth = 3, random_state = 1).fit(x_train, y_train)\n"
   ]
  },
  {
   "cell_type": "code",
   "execution_count": 5,
   "metadata": {},
   "outputs": [
    {
     "data": {
      "text/html": [
       "<div>\n",
       "<style scoped>\n",
       "    .dataframe tbody tr th:only-of-type {\n",
       "        vertical-align: middle;\n",
       "    }\n",
       "\n",
       "    .dataframe tbody tr th {\n",
       "        vertical-align: top;\n",
       "    }\n",
       "\n",
       "    .dataframe thead th {\n",
       "        text-align: right;\n",
       "    }\n",
       "</style>\n",
       "<table border=\"1\" class=\"dataframe\">\n",
       "  <thead>\n",
       "    <tr style=\"text-align: right;\">\n",
       "      <th></th>\n",
       "      <th>Unnamed: 0</th>\n",
       "      <th>YEAR_JOINED</th>\n",
       "      <th>CURRENT_YEAR</th>\n",
       "      <th>BILL_AMOUNT</th>\n",
       "      <th>PAID_AMOUNT</th>\n",
       "      <th>PAYMENT_TRANSACTIONS</th>\n",
       "      <th>PARTY_REV</th>\n",
       "      <th>PREPAID_LINES</th>\n",
       "      <th>POSTPAID_LINES</th>\n",
       "      <th>OTHER_LINES</th>\n",
       "      <th>LINE_REV</th>\n",
       "      <th>MOUS_TO_LOCAL_MOBILES</th>\n",
       "      <th>MOUS_FROM_LOCAL_MOBILES</th>\n",
       "      <th>MOUS_TO_LOCAL_LANDLINES</th>\n",
       "      <th>MOUS_FROM_LOCAL_LANDLINES</th>\n",
       "      <th>MOUS_TO_INT_NUMBER</th>\n",
       "      <th>MOUS_FROM_INT_NUMBER</th>\n",
       "      <th>DATA_IN_BNDL</th>\n",
       "      <th>DATA_OUT_BNDL</th>\n",
       "    </tr>\n",
       "  </thead>\n",
       "  <tbody>\n",
       "    <tr>\n",
       "      <th>570153</th>\n",
       "      <td>570153</td>\n",
       "      <td>2018</td>\n",
       "      <td>2019</td>\n",
       "      <td>194.470005</td>\n",
       "      <td>209.166667</td>\n",
       "      <td>1</td>\n",
       "      <td>579.155000</td>\n",
       "      <td>3</td>\n",
       "      <td>2</td>\n",
       "      <td>0</td>\n",
       "      <td>199.575000</td>\n",
       "      <td>68.925</td>\n",
       "      <td>14.805</td>\n",
       "      <td>0.010</td>\n",
       "      <td>0.625</td>\n",
       "      <td>159.925</td>\n",
       "      <td>0.000</td>\n",
       "      <td>4760.264160</td>\n",
       "      <td>0.0</td>\n",
       "    </tr>\n",
       "    <tr>\n",
       "      <th>1030481</th>\n",
       "      <td>1030481</td>\n",
       "      <td>2016</td>\n",
       "      <td>2019</td>\n",
       "      <td>660.529964</td>\n",
       "      <td>664.283333</td>\n",
       "      <td>3</td>\n",
       "      <td>778.710000</td>\n",
       "      <td>3</td>\n",
       "      <td>1</td>\n",
       "      <td>0</td>\n",
       "      <td>778.101667</td>\n",
       "      <td>630.500</td>\n",
       "      <td>83.735</td>\n",
       "      <td>33.715</td>\n",
       "      <td>111.775</td>\n",
       "      <td>0.000</td>\n",
       "      <td>0.000</td>\n",
       "      <td>13992.359697</td>\n",
       "      <td>0.0</td>\n",
       "    </tr>\n",
       "    <tr>\n",
       "      <th>204211</th>\n",
       "      <td>204211</td>\n",
       "      <td>2010</td>\n",
       "      <td>2019</td>\n",
       "      <td>340.964161</td>\n",
       "      <td>481.666667</td>\n",
       "      <td>1</td>\n",
       "      <td>2661.966667</td>\n",
       "      <td>3</td>\n",
       "      <td>4</td>\n",
       "      <td>1</td>\n",
       "      <td>391.055000</td>\n",
       "      <td>458.000</td>\n",
       "      <td>47.165</td>\n",
       "      <td>22.975</td>\n",
       "      <td>8.970</td>\n",
       "      <td>2.700</td>\n",
       "      <td>0.000</td>\n",
       "      <td>15666.332031</td>\n",
       "      <td>0.0</td>\n",
       "    </tr>\n",
       "    <tr>\n",
       "      <th>1020482</th>\n",
       "      <td>1020482</td>\n",
       "      <td>2016</td>\n",
       "      <td>2019</td>\n",
       "      <td>263.990754</td>\n",
       "      <td>283.796667</td>\n",
       "      <td>2</td>\n",
       "      <td>2259.715000</td>\n",
       "      <td>4</td>\n",
       "      <td>5</td>\n",
       "      <td>0</td>\n",
       "      <td>275.563333</td>\n",
       "      <td>641.580</td>\n",
       "      <td>239.425</td>\n",
       "      <td>11.280</td>\n",
       "      <td>11.135</td>\n",
       "      <td>0.000</td>\n",
       "      <td>0.010</td>\n",
       "      <td>11716.216797</td>\n",
       "      <td>0.0</td>\n",
       "    </tr>\n",
       "    <tr>\n",
       "      <th>1033434</th>\n",
       "      <td>1033434</td>\n",
       "      <td>2016</td>\n",
       "      <td>2019</td>\n",
       "      <td>713.466574</td>\n",
       "      <td>661.746667</td>\n",
       "      <td>1</td>\n",
       "      <td>2064.835000</td>\n",
       "      <td>10</td>\n",
       "      <td>5</td>\n",
       "      <td>0</td>\n",
       "      <td>561.483333</td>\n",
       "      <td>289.935</td>\n",
       "      <td>354.815</td>\n",
       "      <td>17.510</td>\n",
       "      <td>134.915</td>\n",
       "      <td>0.000</td>\n",
       "      <td>0.000</td>\n",
       "      <td>14950.827637</td>\n",
       "      <td>0.0</td>\n",
       "    </tr>\n",
       "    <tr>\n",
       "      <th>...</th>\n",
       "      <td>...</td>\n",
       "      <td>...</td>\n",
       "      <td>...</td>\n",
       "      <td>...</td>\n",
       "      <td>...</td>\n",
       "      <td>...</td>\n",
       "      <td>...</td>\n",
       "      <td>...</td>\n",
       "      <td>...</td>\n",
       "      <td>...</td>\n",
       "      <td>...</td>\n",
       "      <td>...</td>\n",
       "      <td>...</td>\n",
       "      <td>...</td>\n",
       "      <td>...</td>\n",
       "      <td>...</td>\n",
       "      <td>...</td>\n",
       "      <td>...</td>\n",
       "      <td>...</td>\n",
       "    </tr>\n",
       "    <tr>\n",
       "      <th>208917</th>\n",
       "      <td>208917</td>\n",
       "      <td>2010</td>\n",
       "      <td>2019</td>\n",
       "      <td>1037.775275</td>\n",
       "      <td>1335.500000</td>\n",
       "      <td>3</td>\n",
       "      <td>1318.328333</td>\n",
       "      <td>0</td>\n",
       "      <td>1</td>\n",
       "      <td>0</td>\n",
       "      <td>1318.328333</td>\n",
       "      <td>544.905</td>\n",
       "      <td>32.660</td>\n",
       "      <td>37.825</td>\n",
       "      <td>93.815</td>\n",
       "      <td>249.790</td>\n",
       "      <td>82.540</td>\n",
       "      <td>15997.622559</td>\n",
       "      <td>0.0</td>\n",
       "    </tr>\n",
       "    <tr>\n",
       "      <th>820541</th>\n",
       "      <td>820541</td>\n",
       "      <td>2015</td>\n",
       "      <td>2019</td>\n",
       "      <td>331.696527</td>\n",
       "      <td>310.686667</td>\n",
       "      <td>1</td>\n",
       "      <td>2670.885000</td>\n",
       "      <td>2</td>\n",
       "      <td>3</td>\n",
       "      <td>0</td>\n",
       "      <td>291.840000</td>\n",
       "      <td>55.890</td>\n",
       "      <td>121.325</td>\n",
       "      <td>0.000</td>\n",
       "      <td>5.440</td>\n",
       "      <td>0.000</td>\n",
       "      <td>0.000</td>\n",
       "      <td>5572.104980</td>\n",
       "      <td>0.0</td>\n",
       "    </tr>\n",
       "    <tr>\n",
       "      <th>315734</th>\n",
       "      <td>315734</td>\n",
       "      <td>2014</td>\n",
       "      <td>2019</td>\n",
       "      <td>190.179914</td>\n",
       "      <td>197.166667</td>\n",
       "      <td>1</td>\n",
       "      <td>234.173333</td>\n",
       "      <td>3</td>\n",
       "      <td>2</td>\n",
       "      <td>0</td>\n",
       "      <td>185.911667</td>\n",
       "      <td>178.925</td>\n",
       "      <td>62.860</td>\n",
       "      <td>16.790</td>\n",
       "      <td>35.145</td>\n",
       "      <td>29.750</td>\n",
       "      <td>0.000</td>\n",
       "      <td>46.787109</td>\n",
       "      <td>0.0</td>\n",
       "    </tr>\n",
       "    <tr>\n",
       "      <th>963413</th>\n",
       "      <td>963413</td>\n",
       "      <td>2016</td>\n",
       "      <td>2019</td>\n",
       "      <td>956.666809</td>\n",
       "      <td>990.330000</td>\n",
       "      <td>2</td>\n",
       "      <td>1265.613333</td>\n",
       "      <td>1</td>\n",
       "      <td>1</td>\n",
       "      <td>4</td>\n",
       "      <td>915.403333</td>\n",
       "      <td>209.005</td>\n",
       "      <td>18.800</td>\n",
       "      <td>91.500</td>\n",
       "      <td>10.565</td>\n",
       "      <td>168.870</td>\n",
       "      <td>0.025</td>\n",
       "      <td>3166.144531</td>\n",
       "      <td>0.0</td>\n",
       "    </tr>\n",
       "    <tr>\n",
       "      <th>312019</th>\n",
       "      <td>312019</td>\n",
       "      <td>2013</td>\n",
       "      <td>2019</td>\n",
       "      <td>313.174852</td>\n",
       "      <td>326.181667</td>\n",
       "      <td>1</td>\n",
       "      <td>324.555000</td>\n",
       "      <td>0</td>\n",
       "      <td>1</td>\n",
       "      <td>0</td>\n",
       "      <td>324.555000</td>\n",
       "      <td>68.160</td>\n",
       "      <td>10.540</td>\n",
       "      <td>3.640</td>\n",
       "      <td>9.300</td>\n",
       "      <td>0.000</td>\n",
       "      <td>1.735</td>\n",
       "      <td>805.601074</td>\n",
       "      <td>0.0</td>\n",
       "    </tr>\n",
       "  </tbody>\n",
       "</table>\n",
       "<p>285151 rows × 19 columns</p>\n",
       "</div>"
      ],
      "text/plain": [
       "         Unnamed: 0  YEAR_JOINED  CURRENT_YEAR  BILL_AMOUNT  PAID_AMOUNT  \\\n",
       "570153       570153         2018          2019   194.470005   209.166667   \n",
       "1030481     1030481         2016          2019   660.529964   664.283333   \n",
       "204211       204211         2010          2019   340.964161   481.666667   \n",
       "1020482     1020482         2016          2019   263.990754   283.796667   \n",
       "1033434     1033434         2016          2019   713.466574   661.746667   \n",
       "...             ...          ...           ...          ...          ...   \n",
       "208917       208917         2010          2019  1037.775275  1335.500000   \n",
       "820541       820541         2015          2019   331.696527   310.686667   \n",
       "315734       315734         2014          2019   190.179914   197.166667   \n",
       "963413       963413         2016          2019   956.666809   990.330000   \n",
       "312019       312019         2013          2019   313.174852   326.181667   \n",
       "\n",
       "         PAYMENT_TRANSACTIONS    PARTY_REV  PREPAID_LINES  POSTPAID_LINES  \\\n",
       "570153                      1   579.155000              3               2   \n",
       "1030481                     3   778.710000              3               1   \n",
       "204211                      1  2661.966667              3               4   \n",
       "1020482                     2  2259.715000              4               5   \n",
       "1033434                     1  2064.835000             10               5   \n",
       "...                       ...          ...            ...             ...   \n",
       "208917                      3  1318.328333              0               1   \n",
       "820541                      1  2670.885000              2               3   \n",
       "315734                      1   234.173333              3               2   \n",
       "963413                      2  1265.613333              1               1   \n",
       "312019                      1   324.555000              0               1   \n",
       "\n",
       "         OTHER_LINES     LINE_REV  MOUS_TO_LOCAL_MOBILES  \\\n",
       "570153             0   199.575000                 68.925   \n",
       "1030481            0   778.101667                630.500   \n",
       "204211             1   391.055000                458.000   \n",
       "1020482            0   275.563333                641.580   \n",
       "1033434            0   561.483333                289.935   \n",
       "...              ...          ...                    ...   \n",
       "208917             0  1318.328333                544.905   \n",
       "820541             0   291.840000                 55.890   \n",
       "315734             0   185.911667                178.925   \n",
       "963413             4   915.403333                209.005   \n",
       "312019             0   324.555000                 68.160   \n",
       "\n",
       "         MOUS_FROM_LOCAL_MOBILES  MOUS_TO_LOCAL_LANDLINES  \\\n",
       "570153                    14.805                    0.010   \n",
       "1030481                   83.735                   33.715   \n",
       "204211                    47.165                   22.975   \n",
       "1020482                  239.425                   11.280   \n",
       "1033434                  354.815                   17.510   \n",
       "...                          ...                      ...   \n",
       "208917                    32.660                   37.825   \n",
       "820541                   121.325                    0.000   \n",
       "315734                    62.860                   16.790   \n",
       "963413                    18.800                   91.500   \n",
       "312019                    10.540                    3.640   \n",
       "\n",
       "         MOUS_FROM_LOCAL_LANDLINES  MOUS_TO_INT_NUMBER  MOUS_FROM_INT_NUMBER  \\\n",
       "570153                       0.625             159.925                 0.000   \n",
       "1030481                    111.775               0.000                 0.000   \n",
       "204211                       8.970               2.700                 0.000   \n",
       "1020482                     11.135               0.000                 0.010   \n",
       "1033434                    134.915               0.000                 0.000   \n",
       "...                            ...                 ...                   ...   \n",
       "208917                      93.815             249.790                82.540   \n",
       "820541                       5.440               0.000                 0.000   \n",
       "315734                      35.145              29.750                 0.000   \n",
       "963413                      10.565             168.870                 0.025   \n",
       "312019                       9.300               0.000                 1.735   \n",
       "\n",
       "         DATA_IN_BNDL  DATA_OUT_BNDL  \n",
       "570153    4760.264160            0.0  \n",
       "1030481  13992.359697            0.0  \n",
       "204211   15666.332031            0.0  \n",
       "1020482  11716.216797            0.0  \n",
       "1033434  14950.827637            0.0  \n",
       "...               ...            ...  \n",
       "208917   15997.622559            0.0  \n",
       "820541    5572.104980            0.0  \n",
       "315734      46.787109            0.0  \n",
       "963413    3166.144531            0.0  \n",
       "312019     805.601074            0.0  \n",
       "\n",
       "[285151 rows x 19 columns]"
      ]
     },
     "execution_count": 5,
     "metadata": {},
     "output_type": "execute_result"
    }
   ],
   "source": [
    "x_test"
   ]
  },
  {
   "cell_type": "code",
   "execution_count": 6,
   "metadata": {},
   "outputs": [
    {
     "data": {
      "text/plain": [
       "array([0, 0, 0, ..., 0, 0, 0], dtype=int64)"
      ]
     },
     "execution_count": 6,
     "metadata": {},
     "output_type": "execute_result"
    }
   ],
   "source": [
    "y_pred = random_forest.predict(x_test)\n",
    "y_pred"
   ]
  },
  {
   "cell_type": "code",
   "execution_count": 7,
   "metadata": {},
   "outputs": [
    {
     "data": {
      "text/plain": [
       "0.9952621593471529"
      ]
     },
     "execution_count": 7,
     "metadata": {},
     "output_type": "execute_result"
    }
   ],
   "source": [
    "random_forest.score(x_test, y_test)"
   ]
  },
  {
   "cell_type": "code",
   "execution_count": 8,
   "metadata": {},
   "outputs": [
    {
     "data": {
      "image/png": "[encoded data removed]",
      "text/plain": [
       "<Figure size 640x480 with 2 Axes>"
      ]
     },
     "metadata": {},
     "output_type": "display_data"
    }
   ],
   "source": [
    "cm = confusion_matrix(y_test, y_pred)\n",
    "cm_plot = ConfusionMatrixDisplay(cm).plot()"
   ]
  },
  {
   "cell_type": "code",
   "execution_count": 9,
   "metadata": {},
   "outputs": [
    {
     "data": {
      "text/plain": [
       "(270104, 0, 1351, 13696)"
      ]
     },
     "execution_count": 9,
     "metadata": {},
     "output_type": "execute_result"
    }
   ],
   "source": [
    "a,b,c,d = cm.ravel()\n",
    "(a,b,c,d)"
   ]
  },
  {
   "cell_type": "code",
   "execution_count": 10,
   "metadata": {},
   "outputs": [
    {
     "name": "stdout",
     "output_type": "stream",
     "text": [
      "Precission in true positives (A): 1.0  Precission in true negatives (D): 0.9102146607297136\n"
     ]
    }
   ],
   "source": [
    "percentage_A = a / (a + b) #True positives = True positives / (True positives + false positives)\n",
    "percentage_D = d / (d + c) #True positives = True negatives / (True negatives + false negatives)\n",
    "print(\"Precission in true positives (A):\",percentage_A,\" Precission in true negatives (D):\",percentage_D)"
   ]
  },
  {
   "cell_type": "code",
   "execution_count": 11,
   "metadata": {},
   "outputs": [
    {
     "data": {
      "text/plain": [
       "['random_forest_churn.joblib']"
      ]
     },
     "execution_count": 11,
     "metadata": {},
     "output_type": "execute_result"
    }
   ],
   "source": [
    "from joblib import dump, load\n",
    "dump(random_forest, 'random_forest_churn.joblib')"
   ]
  },
  {
   "cell_type": "code",
   "execution_count": 12,
   "metadata": {},
   "outputs": [],
   "source": [
    "#function to get all clients churn probability: 0 means no churn, 1 means churn\n",
    "def getChurnProbabilities(random_forest, x):\n",
    "    return random_forest.predict_proba(x)"
   ]
  },
  {
   "cell_type": "code",
   "execution_count": 13,
   "metadata": {},
   "outputs": [],
   "source": [
    "proba_matrix = getChurnProbabilities(random_forest, x_test)"
   ]
  },
  {
   "cell_type": "code",
   "execution_count": 14,
   "metadata": {},
   "outputs": [],
   "source": [
    "#function to set each client according to low, mid or high churn chance (given low and high percentages by the user)\n",
    "def showProbabilities(low,high):\n",
    "    clients_low = []\n",
    "    clients_mid = []\n",
    "    clients_high = []\n",
    "    i = 0\n",
    "    #for each client in the data set\n",
    "    for client in proba_matrix:\n",
    "        #get all their data and their churn chance into one list\n",
    "        client_index = x_test.index[i]\n",
    "        client_info = x_test.loc[client_index].values\n",
    "        client_info = np.append(client_info,client[1])\n",
    "        #store client data into profiles(low, mid, high) list\n",
    "        if client[1] <= low:\n",
    "            clients_low.append(client_info)\n",
    "        elif client[1] >= high:\n",
    "            clients_high.append(client_info)\n",
    "        else:\n",
    "            #everything between lo and high percentages goes to mid chance list\n",
    "            clients_mid.append(client_info)\n",
    "        i += 1\n",
    "    return clients_low, clients_mid, clients_high\n"
   ]
  },
  {
   "cell_type": "code",
   "execution_count": 15,
   "metadata": {},
   "outputs": [],
   "source": [
    "clients_low, clients_mid, clients_high = showProbabilities(.30,.60)"
   ]
  },
  {
   "cell_type": "code",
   "execution_count": 16,
   "metadata": {},
   "outputs": [
    {
     "name": "stdout",
     "output_type": "stream",
     "text": [
      "270104  clients have low churn chances\n",
      "14930  clients have mid churn chances\n",
      "117  clients have high churn chances\n"
     ]
    }
   ],
   "source": [
    "print(len(clients_low), \" clients have low churn chances\")\n",
    "print(len(clients_mid), \" clients have mid churn chances\")\n",
    "print(len(clients_high), \" clients have high churn chances\")"
   ]
  },
  {
   "cell_type": "code",
   "execution_count": 17,
   "metadata": {},
   "outputs": [],
   "source": [
    "#function to get each groups relevance in terms of bill amount by getting the sum of a determined group\n",
    "def getClassificationSum(churn_group):\n",
    "    names = x_test.columns.to_list()\n",
    "    names[0] = \"CUSTOMER_ID\"\n",
    "    names.append('CHURN_PERCENTAGE')\n",
    "    clients_high_pd = pd.DataFrame(churn_group, columns = names)\n",
    "    churn_bill_value = clients_high_pd['BILL_AMOUNT'].sum()\n",
    "    return churn_bill_value"
   ]
  },
  {
   "cell_type": "code",
   "execution_count": 18,
   "metadata": {},
   "outputs": [],
   "source": [
    "low_value = getClassificationSum(clients_low)\n",
    "mid_value = getClassificationSum(clients_mid)\n",
    "high_value = getClassificationSum(clients_high)"
   ]
  },
  {
   "cell_type": "code",
   "execution_count": 19,
   "metadata": {},
   "outputs": [
    {
     "name": "stdout",
     "output_type": "stream",
     "text": [
      "Bill amount for clients with low churn chances:  104599751.21089183\n",
      "Bill amount for clients with mid churn chances:  4357886.30478707\n",
      "Bill amount for clients with high churn chances:  2454.588149720983\n"
     ]
    }
   ],
   "source": [
    "print(\"Bill amount for clients with low churn chances: \", low_value)\n",
    "print(\"Bill amount for clients with mid churn chances: \", mid_value)\n",
    "print(\"Bill amount for clients with high churn chances: \", high_value)"
   ]
  },
  {
   "cell_type": "code",
   "execution_count": null,
   "metadata": {},
   "outputs": [],
   "source": []
  }
 ],
 "metadata": {
  "kernelspec": {
   "display_name": "Python 3.8.10 64-bit (microsoft store)",
   "language": "python",
   "name": "python3"
  },
  "language_info": {
   "codemirror_mode": {
    "name": "ipython",
    "version": 3
   },
   "file_extension": ".py",
   "mimetype": "text/x-python",
   "name": "python",
   "nbconvert_exporter": "python",
   "pygments_lexer": "ipython3",
   "version": "3.8.10"
  },
  "orig_nbformat": 4,
  "vscode": {
   "interpreter": {
    "hash": "2895a9ff45eae723fdadc456c4bca17d77a71277f8efe34e6ebc3ca2a18e1d2d"
   }
  }
 },
 "nbformat": 4,
 "nbformat_minor": 2
}
