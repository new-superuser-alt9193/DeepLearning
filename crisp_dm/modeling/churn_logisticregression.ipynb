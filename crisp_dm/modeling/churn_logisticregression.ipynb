{
 "cells": [
  {
   "cell_type": "code",
   "execution_count": 19,
   "metadata": {},
   "outputs": [],
   "source": [
    "from sklearn.linear_model import LogisticRegression\n",
    "from sklearn.model_selection import train_test_split,  KFold, cross_val_score, cross_val_predict\n",
    "from sklearn.metrics import confusion_matrix, ConfusionMatrixDisplay\n",
    "import matplotlib.pyplot as plt\n",
    "import pandas as pd\n",
    "import numpy as np"
   ]
  },
  {
   "cell_type": "code",
   "execution_count": 20,
   "metadata": {},
   "outputs": [],
   "source": [
    "df = pd.read_csv('../../data/telecom_pca.csv')\n",
    "x = df.drop(columns=['TARGET'])\n",
    "y = df['TARGET']"
   ]
  },
  {
   "cell_type": "code",
   "execution_count": 21,
   "metadata": {},
   "outputs": [
    {
     "data": {
      "text/html": [
       "<div>\n",
       "<style scoped>\n",
       "    .dataframe tbody tr th:only-of-type {\n",
       "        vertical-align: middle;\n",
       "    }\n",
       "\n",
       "    .dataframe tbody tr th {\n",
       "        vertical-align: top;\n",
       "    }\n",
       "\n",
       "    .dataframe thead th {\n",
       "        text-align: right;\n",
       "    }\n",
       "</style>\n",
       "<table border=\"1\" class=\"dataframe\">\n",
       "  <thead>\n",
       "    <tr style=\"text-align: right;\">\n",
       "      <th></th>\n",
       "      <th>Unnamed: 0</th>\n",
       "      <th>YEAR_JOINED</th>\n",
       "      <th>CURRENT_YEAR</th>\n",
       "      <th>BILL_AMOUNT</th>\n",
       "      <th>PAID_AMOUNT</th>\n",
       "      <th>PAYMENT_TRANSACTIONS</th>\n",
       "      <th>PARTY_REV</th>\n",
       "      <th>PREPAID_LINES</th>\n",
       "      <th>POSTPAID_LINES</th>\n",
       "      <th>OTHER_LINES</th>\n",
       "      <th>LINE_REV</th>\n",
       "      <th>MOUS_TO_LOCAL_MOBILES</th>\n",
       "      <th>MOUS_FROM_LOCAL_MOBILES</th>\n",
       "      <th>MOUS_TO_LOCAL_LANDLINES</th>\n",
       "      <th>MOUS_FROM_LOCAL_LANDLINES</th>\n",
       "      <th>MOUS_TO_INT_NUMBER</th>\n",
       "      <th>MOUS_FROM_INT_NUMBER</th>\n",
       "      <th>DATA_IN_BNDL</th>\n",
       "      <th>DATA_OUT_BNDL</th>\n",
       "    </tr>\n",
       "  </thead>\n",
       "  <tbody>\n",
       "    <tr>\n",
       "      <th>0</th>\n",
       "      <td>0</td>\n",
       "      <td>1994</td>\n",
       "      <td>2019</td>\n",
       "      <td>931.208938</td>\n",
       "      <td>812.175000</td>\n",
       "      <td>1</td>\n",
       "      <td>5968.700000</td>\n",
       "      <td>2</td>\n",
       "      <td>6</td>\n",
       "      <td>2</td>\n",
       "      <td>945.040000</td>\n",
       "      <td>1004.070</td>\n",
       "      <td>35.850</td>\n",
       "      <td>34.015</td>\n",
       "      <td>72.075</td>\n",
       "      <td>141.840</td>\n",
       "      <td>56.115</td>\n",
       "      <td>11944.079102</td>\n",
       "      <td>0.0</td>\n",
       "    </tr>\n",
       "    <tr>\n",
       "      <th>1</th>\n",
       "      <td>1</td>\n",
       "      <td>1994</td>\n",
       "      <td>2019</td>\n",
       "      <td>431.082618</td>\n",
       "      <td>486.500000</td>\n",
       "      <td>1</td>\n",
       "      <td>6245.141667</td>\n",
       "      <td>6</td>\n",
       "      <td>4</td>\n",
       "      <td>2</td>\n",
       "      <td>493.815000</td>\n",
       "      <td>159.050</td>\n",
       "      <td>10.595</td>\n",
       "      <td>7.715</td>\n",
       "      <td>11.750</td>\n",
       "      <td>5.110</td>\n",
       "      <td>0.000</td>\n",
       "      <td>9903.157715</td>\n",
       "      <td>0.0</td>\n",
       "    </tr>\n",
       "    <tr>\n",
       "      <th>2</th>\n",
       "      <td>2</td>\n",
       "      <td>1994</td>\n",
       "      <td>2019</td>\n",
       "      <td>50.619644</td>\n",
       "      <td>52.815000</td>\n",
       "      <td>1</td>\n",
       "      <td>1666.488333</td>\n",
       "      <td>2</td>\n",
       "      <td>3</td>\n",
       "      <td>1</td>\n",
       "      <td>50.300000</td>\n",
       "      <td>0.000</td>\n",
       "      <td>0.000</td>\n",
       "      <td>0.000</td>\n",
       "      <td>0.000</td>\n",
       "      <td>0.000</td>\n",
       "      <td>0.000</td>\n",
       "      <td>0.102539</td>\n",
       "      <td>0.0</td>\n",
       "    </tr>\n",
       "    <tr>\n",
       "      <th>3</th>\n",
       "      <td>3</td>\n",
       "      <td>1994</td>\n",
       "      <td>2019</td>\n",
       "      <td>399.710034</td>\n",
       "      <td>422.235000</td>\n",
       "      <td>1</td>\n",
       "      <td>2522.008333</td>\n",
       "      <td>3</td>\n",
       "      <td>4</td>\n",
       "      <td>3</td>\n",
       "      <td>406.586667</td>\n",
       "      <td>288.805</td>\n",
       "      <td>158.500</td>\n",
       "      <td>2.670</td>\n",
       "      <td>15.965</td>\n",
       "      <td>0.000</td>\n",
       "      <td>0.000</td>\n",
       "      <td>3600.322266</td>\n",
       "      <td>0.0</td>\n",
       "    </tr>\n",
       "    <tr>\n",
       "      <th>4</th>\n",
       "      <td>4</td>\n",
       "      <td>1994</td>\n",
       "      <td>2019</td>\n",
       "      <td>612.665844</td>\n",
       "      <td>825.888333</td>\n",
       "      <td>1</td>\n",
       "      <td>1219.961667</td>\n",
       "      <td>0</td>\n",
       "      <td>2</td>\n",
       "      <td>1</td>\n",
       "      <td>751.185000</td>\n",
       "      <td>209.760</td>\n",
       "      <td>186.050</td>\n",
       "      <td>17.515</td>\n",
       "      <td>28.685</td>\n",
       "      <td>3.235</td>\n",
       "      <td>4.475</td>\n",
       "      <td>3852.026367</td>\n",
       "      <td>0.0</td>\n",
       "    </tr>\n",
       "    <tr>\n",
       "      <th>...</th>\n",
       "      <td>...</td>\n",
       "      <td>...</td>\n",
       "      <td>...</td>\n",
       "      <td>...</td>\n",
       "      <td>...</td>\n",
       "      <td>...</td>\n",
       "      <td>...</td>\n",
       "      <td>...</td>\n",
       "      <td>...</td>\n",
       "      <td>...</td>\n",
       "      <td>...</td>\n",
       "      <td>...</td>\n",
       "      <td>...</td>\n",
       "      <td>...</td>\n",
       "      <td>...</td>\n",
       "      <td>...</td>\n",
       "      <td>...</td>\n",
       "      <td>...</td>\n",
       "      <td>...</td>\n",
       "    </tr>\n",
       "    <tr>\n",
       "      <th>1140599</th>\n",
       "      <td>1140599</td>\n",
       "      <td>2017</td>\n",
       "      <td>2019</td>\n",
       "      <td>297.752650</td>\n",
       "      <td>313.950000</td>\n",
       "      <td>1</td>\n",
       "      <td>2418.486667</td>\n",
       "      <td>5</td>\n",
       "      <td>4</td>\n",
       "      <td>3</td>\n",
       "      <td>303.166667</td>\n",
       "      <td>0.000</td>\n",
       "      <td>0.000</td>\n",
       "      <td>0.000</td>\n",
       "      <td>0.000</td>\n",
       "      <td>0.000</td>\n",
       "      <td>0.000</td>\n",
       "      <td>307945.957031</td>\n",
       "      <td>0.0</td>\n",
       "    </tr>\n",
       "    <tr>\n",
       "      <th>1140600</th>\n",
       "      <td>1140600</td>\n",
       "      <td>2017</td>\n",
       "      <td>2019</td>\n",
       "      <td>160.663773</td>\n",
       "      <td>178.500000</td>\n",
       "      <td>1</td>\n",
       "      <td>454.116667</td>\n",
       "      <td>0</td>\n",
       "      <td>1</td>\n",
       "      <td>1</td>\n",
       "      <td>170.000000</td>\n",
       "      <td>0.000</td>\n",
       "      <td>0.000</td>\n",
       "      <td>0.000</td>\n",
       "      <td>0.000</td>\n",
       "      <td>0.000</td>\n",
       "      <td>0.000</td>\n",
       "      <td>22647.873535</td>\n",
       "      <td>0.0</td>\n",
       "    </tr>\n",
       "    <tr>\n",
       "      <th>1140601</th>\n",
       "      <td>1140601</td>\n",
       "      <td>2017</td>\n",
       "      <td>2019</td>\n",
       "      <td>570.147016</td>\n",
       "      <td>642.911667</td>\n",
       "      <td>1</td>\n",
       "      <td>615.866667</td>\n",
       "      <td>1</td>\n",
       "      <td>1</td>\n",
       "      <td>0</td>\n",
       "      <td>609.630000</td>\n",
       "      <td>154.150</td>\n",
       "      <td>64.990</td>\n",
       "      <td>3.660</td>\n",
       "      <td>10.050</td>\n",
       "      <td>0.000</td>\n",
       "      <td>0.000</td>\n",
       "      <td>17582.867188</td>\n",
       "      <td>0.0</td>\n",
       "    </tr>\n",
       "    <tr>\n",
       "      <th>1140602</th>\n",
       "      <td>1140602</td>\n",
       "      <td>2017</td>\n",
       "      <td>2019</td>\n",
       "      <td>452.736799</td>\n",
       "      <td>525.413333</td>\n",
       "      <td>2</td>\n",
       "      <td>735.645000</td>\n",
       "      <td>1</td>\n",
       "      <td>2</td>\n",
       "      <td>0</td>\n",
       "      <td>414.840000</td>\n",
       "      <td>218.805</td>\n",
       "      <td>102.075</td>\n",
       "      <td>54.065</td>\n",
       "      <td>7.980</td>\n",
       "      <td>5.350</td>\n",
       "      <td>0.065</td>\n",
       "      <td>3015.338867</td>\n",
       "      <td>0.0</td>\n",
       "    </tr>\n",
       "    <tr>\n",
       "      <th>1140603</th>\n",
       "      <td>1140603</td>\n",
       "      <td>2017</td>\n",
       "      <td>2019</td>\n",
       "      <td>151.659202</td>\n",
       "      <td>200.000000</td>\n",
       "      <td>1</td>\n",
       "      <td>935.358333</td>\n",
       "      <td>2</td>\n",
       "      <td>2</td>\n",
       "      <td>0</td>\n",
       "      <td>155.728333</td>\n",
       "      <td>0.000</td>\n",
       "      <td>0.000</td>\n",
       "      <td>0.000</td>\n",
       "      <td>0.000</td>\n",
       "      <td>0.000</td>\n",
       "      <td>0.000</td>\n",
       "      <td>0.000000</td>\n",
       "      <td>0.0</td>\n",
       "    </tr>\n",
       "  </tbody>\n",
       "</table>\n",
       "<p>1140604 rows × 19 columns</p>\n",
       "</div>"
      ],
      "text/plain": [
       "         Unnamed: 0  YEAR_JOINED  CURRENT_YEAR  BILL_AMOUNT  PAID_AMOUNT  \\\n",
       "0                 0         1994          2019   931.208938   812.175000   \n",
       "1                 1         1994          2019   431.082618   486.500000   \n",
       "2                 2         1994          2019    50.619644    52.815000   \n",
       "3                 3         1994          2019   399.710034   422.235000   \n",
       "4                 4         1994          2019   612.665844   825.888333   \n",
       "...             ...          ...           ...          ...          ...   \n",
       "1140599     1140599         2017          2019   297.752650   313.950000   \n",
       "1140600     1140600         2017          2019   160.663773   178.500000   \n",
       "1140601     1140601         2017          2019   570.147016   642.911667   \n",
       "1140602     1140602         2017          2019   452.736799   525.413333   \n",
       "1140603     1140603         2017          2019   151.659202   200.000000   \n",
       "\n",
       "         PAYMENT_TRANSACTIONS    PARTY_REV  PREPAID_LINES  POSTPAID_LINES  \\\n",
       "0                           1  5968.700000              2               6   \n",
       "1                           1  6245.141667              6               4   \n",
       "2                           1  1666.488333              2               3   \n",
       "3                           1  2522.008333              3               4   \n",
       "4                           1  1219.961667              0               2   \n",
       "...                       ...          ...            ...             ...   \n",
       "1140599                     1  2418.486667              5               4   \n",
       "1140600                     1   454.116667              0               1   \n",
       "1140601                     1   615.866667              1               1   \n",
       "1140602                     2   735.645000              1               2   \n",
       "1140603                     1   935.358333              2               2   \n",
       "\n",
       "         OTHER_LINES    LINE_REV  MOUS_TO_LOCAL_MOBILES  \\\n",
       "0                  2  945.040000               1004.070   \n",
       "1                  2  493.815000                159.050   \n",
       "2                  1   50.300000                  0.000   \n",
       "3                  3  406.586667                288.805   \n",
       "4                  1  751.185000                209.760   \n",
       "...              ...         ...                    ...   \n",
       "1140599            3  303.166667                  0.000   \n",
       "1140600            1  170.000000                  0.000   \n",
       "1140601            0  609.630000                154.150   \n",
       "1140602            0  414.840000                218.805   \n",
       "1140603            0  155.728333                  0.000   \n",
       "\n",
       "         MOUS_FROM_LOCAL_MOBILES  MOUS_TO_LOCAL_LANDLINES  \\\n",
       "0                         35.850                   34.015   \n",
       "1                         10.595                    7.715   \n",
       "2                          0.000                    0.000   \n",
       "3                        158.500                    2.670   \n",
       "4                        186.050                   17.515   \n",
       "...                          ...                      ...   \n",
       "1140599                    0.000                    0.000   \n",
       "1140600                    0.000                    0.000   \n",
       "1140601                   64.990                    3.660   \n",
       "1140602                  102.075                   54.065   \n",
       "1140603                    0.000                    0.000   \n",
       "\n",
       "         MOUS_FROM_LOCAL_LANDLINES  MOUS_TO_INT_NUMBER  MOUS_FROM_INT_NUMBER  \\\n",
       "0                           72.075             141.840                56.115   \n",
       "1                           11.750               5.110                 0.000   \n",
       "2                            0.000               0.000                 0.000   \n",
       "3                           15.965               0.000                 0.000   \n",
       "4                           28.685               3.235                 4.475   \n",
       "...                            ...                 ...                   ...   \n",
       "1140599                      0.000               0.000                 0.000   \n",
       "1140600                      0.000               0.000                 0.000   \n",
       "1140601                     10.050               0.000                 0.000   \n",
       "1140602                      7.980               5.350                 0.065   \n",
       "1140603                      0.000               0.000                 0.000   \n",
       "\n",
       "          DATA_IN_BNDL  DATA_OUT_BNDL  \n",
       "0         11944.079102            0.0  \n",
       "1          9903.157715            0.0  \n",
       "2             0.102539            0.0  \n",
       "3          3600.322266            0.0  \n",
       "4          3852.026367            0.0  \n",
       "...                ...            ...  \n",
       "1140599  307945.957031            0.0  \n",
       "1140600   22647.873535            0.0  \n",
       "1140601   17582.867188            0.0  \n",
       "1140602    3015.338867            0.0  \n",
       "1140603       0.000000            0.0  \n",
       "\n",
       "[1140604 rows x 19 columns]"
      ]
     },
     "execution_count": 21,
     "metadata": {},
     "output_type": "execute_result"
    }
   ],
   "source": [
    "x"
   ]
  },
  {
   "cell_type": "code",
   "execution_count": 22,
   "metadata": {},
   "outputs": [
    {
     "data": {
      "text/plain": [
       "0    1080399\n",
       "1      60205\n",
       "Name: TARGET, dtype: int64"
      ]
     },
     "execution_count": 22,
     "metadata": {},
     "output_type": "execute_result"
    }
   ],
   "source": [
    "y.value_counts()"
   ]
  },
  {
   "cell_type": "code",
   "execution_count": 23,
   "metadata": {},
   "outputs": [],
   "source": [
    "x_train, x_test, y_train, y_test = train_test_split(x,y, test_size= 0.25, random_state= 1)"
   ]
  },
  {
   "cell_type": "code",
   "execution_count": 24,
   "metadata": {},
   "outputs": [],
   "source": [
    "logistic_regression = LogisticRegression(random_state=0, max_iter = 300)"
   ]
  },
  {
   "cell_type": "code",
   "execution_count": 25,
   "metadata": {},
   "outputs": [
    {
     "name": "stderr",
     "output_type": "stream",
     "text": [
      "[Parallel(n_jobs=1)]: Using backend SequentialBackend with 1 concurrent workers.\n"
     ]
    },
    {
     "name": "stdout",
     "output_type": "stream",
     "text": [
      "[CV] START .....................................................................\n",
      "[CV] END ................................ score: (test=0.947) total time=   7.9s\n",
      "[CV] START .....................................................................\n"
     ]
    },
    {
     "name": "stderr",
     "output_type": "stream",
     "text": [
      "[Parallel(n_jobs=1)]: Done   1 out of   1 | elapsed:    8.0s remaining:    0.0s\n"
     ]
    },
    {
     "name": "stdout",
     "output_type": "stream",
     "text": [
      "[CV] END ................................ score: (test=0.948) total time=   8.4s\n",
      "[CV] START .....................................................................\n"
     ]
    },
    {
     "name": "stderr",
     "output_type": "stream",
     "text": [
      "[Parallel(n_jobs=1)]: Done   2 out of   2 | elapsed:   16.6s remaining:    0.0s\n"
     ]
    },
    {
     "name": "stdout",
     "output_type": "stream",
     "text": [
      "[CV] END ................................ score: (test=0.947) total time=  18.6s\n",
      "[CV] START .....................................................................\n"
     ]
    },
    {
     "name": "stderr",
     "output_type": "stream",
     "text": [
      "[Parallel(n_jobs=1)]: Done   3 out of   3 | elapsed:   35.3s remaining:    0.0s\n"
     ]
    },
    {
     "name": "stdout",
     "output_type": "stream",
     "text": [
      "[CV] END ................................ score: (test=0.947) total time=   9.9s\n",
      "[CV] START .....................................................................\n"
     ]
    },
    {
     "name": "stderr",
     "output_type": "stream",
     "text": [
      "[Parallel(n_jobs=1)]: Done   4 out of   4 | elapsed:   45.4s remaining:    0.0s\n"
     ]
    },
    {
     "name": "stdout",
     "output_type": "stream",
     "text": [
      "[CV] END ................................ score: (test=0.947) total time=  13.6s\n"
     ]
    },
    {
     "name": "stderr",
     "output_type": "stream",
     "text": [
      "[Parallel(n_jobs=1)]: Done   5 out of   5 | elapsed:   59.1s remaining:    0.0s\n",
      "[Parallel(n_jobs=1)]: Done   5 out of   5 | elapsed:   59.1s finished\n"
     ]
    }
   ],
   "source": [
    "kfold = KFold(n_splits = 5, random_state=42, shuffle=True)\n",
    "cv_results = cross_val_score(logistic_regression, x,y, cv = kfold, scoring='accuracy', verbose = 10)"
   ]
  },
  {
   "cell_type": "code",
   "execution_count": 26,
   "metadata": {},
   "outputs": [
    {
     "name": "stdout",
     "output_type": "stream",
     "text": [
      "0.9472139316931178 0.0005364297345475543\n"
     ]
    }
   ],
   "source": [
    "print(cv_results.mean(), cv_results.std())"
   ]
  },
  {
   "cell_type": "code",
   "execution_count": 27,
   "metadata": {},
   "outputs": [],
   "source": [
    "logistic_regression = logistic_regression.fit(x_train, y_train)"
   ]
  },
  {
   "cell_type": "code",
   "execution_count": 28,
   "metadata": {},
   "outputs": [],
   "source": [
    "y_pred = cross_val_predict(logistic_regression, x,y, cv = kfold)"
   ]
  },
  {
   "cell_type": "code",
   "execution_count": 29,
   "metadata": {},
   "outputs": [
    {
     "data": {
      "text/plain": [
       "0.9472314668368689"
      ]
     },
     "execution_count": 29,
     "metadata": {},
     "output_type": "execute_result"
    }
   ],
   "source": [
    "logistic_regression.score(x_test,y_test)"
   ]
  },
  {
   "cell_type": "code",
   "execution_count": 30,
   "metadata": {},
   "outputs": [
    {
     "data": {
      "image/png": "[encoded data removed]",
      "text/plain": [
       "<Figure size 640x480 with 2 Axes>"
      ]
     },
     "metadata": {},
     "output_type": "display_data"
    }
   ],
   "source": [
    "cm = confusion_matrix(y, y_pred)\n",
    "cm_plot = ConfusionMatrixDisplay(cm).plot()"
   ]
  },
  {
   "cell_type": "code",
   "execution_count": 31,
   "metadata": {},
   "outputs": [
    {
     "data": {
      "text/plain": [
       "(1080396, 3, 60205, 0)"
      ]
     },
     "execution_count": 31,
     "metadata": {},
     "output_type": "execute_result"
    }
   ],
   "source": [
    "a,b,c,d = cm.ravel()\n",
    "(a,b,c,d)"
   ]
  },
  {
   "cell_type": "code",
   "execution_count": 32,
   "metadata": {},
   "outputs": [
    {
     "name": "stdout",
     "output_type": "stream",
     "text": [
      "Precission in true positives (A): 0.9999972232480778  Precission in true negatives (D): 0.0\n"
     ]
    }
   ],
   "source": [
    "percentage_A = a / (a + b) #True positives = True positives / (True positives + false positives)\n",
    "percentage_D = d / (d + c) #True positives = True negatives / (True negatives + false negatives)\n",
    "print(\"Precission in true positives (A):\",percentage_A,\" Precission in true negatives (D):\",percentage_D)"
   ]
  },
  {
   "cell_type": "code",
   "execution_count": 33,
   "metadata": {},
   "outputs": [],
   "source": [
    "def getChurnProbabilities(clf, x):\n",
    "    return clf.predict_proba(x)"
   ]
  },
  {
   "cell_type": "code",
   "execution_count": 34,
   "metadata": {},
   "outputs": [],
   "source": [
    "proba_matrix = getChurnProbabilities(logistic_regression, x)"
   ]
  },
  {
   "cell_type": "code",
   "execution_count": 35,
   "metadata": {},
   "outputs": [],
   "source": [
    "#function to set each client according to low, mid or high churn chance (given low and high percentages by the user)\n",
    "def showProbabilities(low,mid,high):\n",
    "    clients_permanent = []\n",
    "    clients_low = []\n",
    "    clients_mid = []\n",
    "    clients_high = []\n",
    "    i = 0\n",
    "    #for each client in the data set\n",
    "    for client in proba_matrix:\n",
    "        #get all their data and their churn chance into one list\n",
    "        client_index = x.index[i]\n",
    "        client_info = x.loc[client_index].values\n",
    "        client_info = np.append(client_info,client[1])\n",
    "        #store client data into profiles(permanent, low, mid, high) list\n",
    "        if client[1] < low:\n",
    "            clients_permanent.append(client_info)\n",
    "        elif client[1] < mid:\n",
    "            clients_low.append(client_info)\n",
    "        elif client[1] < high:\n",
    "            clients_mid.append(client_info)\n",
    "        else:\n",
    "            clients_high.append(client_info)\n",
    "        i += 1\n",
    "    return clients_permanent, clients_low, clients_mid, clients_high"
   ]
  },
  {
   "cell_type": "code",
   "execution_count": 36,
   "metadata": {},
   "outputs": [
    {
     "name": "stdout",
     "output_type": "stream",
     "text": [
      "1140590  clients have no churn chances\n",
      "14  clients have low churn chances\n",
      "0  clients have mid churn chances\n",
      "0  clients have high churn chances\n"
     ]
    }
   ],
   "source": [
    "clients_permanent, clients_low, clients_mid, clients_high = showProbabilities(.30,.60,.80)\n",
    "\n",
    "print(len(clients_permanent), \" clients have no churn chances\")\n",
    "print(len(clients_low), \" clients have low churn chances\")\n",
    "print(len(clients_mid), \" clients have mid churn chances\")\n",
    "print(len(clients_high), \" clients have high churn chances\")"
   ]
  }
 ],
 "metadata": {
  "kernelspec": {
   "display_name": "Python 3.8.10 64-bit (microsoft store)",
   "language": "python",
   "name": "python3"
  },
  "language_info": {
   "codemirror_mode": {
    "name": "ipython",
    "version": 3
   },
   "file_extension": ".py",
   "mimetype": "text/x-python",
   "name": "python",
   "nbconvert_exporter": "python",
   "pygments_lexer": "ipython3",
   "version": "3.8.10"
  },
  "orig_nbformat": 4,
  "vscode": {
   "interpreter": {
    "hash": "2895a9ff45eae723fdadc456c4bca17d77a71277f8efe34e6ebc3ca2a18e1d2d"
   }
  }
 },
 "nbformat": 4,
 "nbformat_minor": 2
}
